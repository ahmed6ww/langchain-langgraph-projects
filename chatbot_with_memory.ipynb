{
  "cells": [
    {
      "cell_type": "markdown",
      "metadata": {
        "id": "view-in-github",
        "colab_type": "text"
      },
      "source": [
        "<a href=\"https://colab.research.google.com/github/ahmed6ww/langchain-langgraph-projects/blob/main/chatbot_with_memory.ipynb\" target=\"_parent\"><img src=\"https://colab.research.google.com/assets/colab-badge.svg\" alt=\"Open In Colab\"/></a>"
      ]
    },
    {
      "cell_type": "markdown",
      "metadata": {
        "id": "j7SGPxqiHAhA"
      },
      "source": [
        "# Chatbot with Memory\n",
        "\n",
        "## Review\n",
        "\n",
        "[Memory](https://pmc.ncbi.nlm.nih.gov/articles/PMC10410470/) is a cognitive function that allows people to store, retrieve, and use information to understand their present and future.\n",
        "\n",
        "There are [various long-term memory types](https://langchain-ai.github.io/langgraph/concepts/memory/#memory) that can be used in AI applications.\n",
        "\n",
        "## Goals\n",
        "\n",
        "Here, we'll introduce the [LangGraph Memory Store](https://langchain-ai.github.io/langgraph/reference/store/#langgraph.store.base.BaseStore) as a way to save and retrieve long-term memories.\n",
        "\n",
        "We'll build a chatbot that uses both `short-term (within-thread)` and `long-term (across-thread)` memory.\n",
        "\n",
        "We'll focus on long-term [semantic memory](https://langchain-ai.github.io/langgraph/concepts/memory/#semantic-memory), which will be facts about the user.\n",
        "\n",
        "These long-term memories will be used to create a personalized chatbot that can remember facts about the user.\n",
        "\n",
        "It will save memory [\"in the hot path\"](https://langchain-ai.github.io/langgraph/concepts/memory/#writing-memories), as the user is chatting with it."
      ]
    },
    {
      "cell_type": "code",
      "execution_count": null,
      "metadata": {
        "id": "xEydxaJJHAhC"
      },
      "outputs": [],
      "source": [
        "%%capture --no-stderr\n",
        "%pip install -U langchain_groq langgraph langchain_core"
      ]
    },
    {
      "cell_type": "markdown",
      "metadata": {
        "id": "Q6K8FLU-HAhE"
      },
      "source": [
        "We'll use [LangSmith](https://docs.smith.langchain.com/) for [tracing](https://docs.smith.langchain.com/concepts/tracing)."
      ]
    },
    {
      "cell_type": "code",
      "execution_count": null,
      "metadata": {
        "id": "yf0EbVAkHAhE"
      },
      "outputs": [],
      "source": [
        "import os, getpass\n",
        "\n",
        "def _set_env(var: str):\n",
        "    if not os.environ.get(var):\n",
        "        os.environ[var] = getpass.getpass(f\"{var}: \")\n",
        "\n",
        "_set_env(\"LANGCHAIN_API_KEY\")\n",
        "os.environ[\"LANGCHAIN_TRACING_V2\"] = \"true\"\n",
        "os.environ[\"LANGCHAIN_PROJECT\"] = \"langchain-academy\""
      ]
    },
    {
      "cell_type": "markdown",
      "metadata": {
        "id": "-8jHAVrOHAhF"
      },
      "source": [
        "## Introduction to the LangGraph Store\n",
        "\n",
        "The [LangGraph Memory Store](https://langchain-ai.github.io/langgraph/reference/store/#langgraph.store.base.BaseStore) provides a way to store and retrieve information *across threads* in LangGraph.\n",
        "\n",
        "This is an  [open source base class](https://blog.langchain.dev/launching-long-term-memory-support-in-langgraph/) for persistent `key-value` stores."
      ]
    },
    {
      "cell_type": "code",
      "execution_count": null,
      "metadata": {
        "id": "XhcMCpLpHAhF"
      },
      "outputs": [],
      "source": [
        "import uuid\n",
        "from langgraph.store.memory import InMemoryStore\n",
        "in_memory_store = InMemoryStore()"
      ]
    },
    {
      "cell_type": "markdown",
      "metadata": {
        "id": "oKBKKXRCHAhF"
      },
      "source": [
        "When storing objects (e.g., memories) in the [Store](https://langchain-ai.github.io/langgraph/reference/store/#langgraph.store.base.BaseStore), we provide:\n",
        "\n",
        "- The `namespace` for the object, a tuple (similar to directories)\n",
        "- the object `key` (similar to filenames)\n",
        "- the object `value` (similar to file contents)\n",
        "\n",
        "We use the [put](https://langchain-ai.github.io/langgraph/reference/store/#langgraph.store.base.BaseStore.put) method to save an object to the store by `namespace` and `key`.\n"
      ]
    },
    {
      "cell_type": "code",
      "execution_count": null,
      "metadata": {
        "id": "PR13ovRUHAhG"
      },
      "outputs": [],
      "source": [
        "# Namespace for the memory to save\n",
        "user_id = \"2\"\n",
        "namespace_for_memory = (user_id, \"memories\")\n",
        "\n",
        "# Save a memory to namespace as key and value\n",
        "key = str(uuid.uuid4())\n",
        "\n",
        "# The value needs to be a dictionary\n",
        "value = {\"food_preference\" : \"I like Afghani Burger\"}\n",
        "\n",
        "# Save the memory\n",
        "in_memory_store.put(namespace_for_memory, key, value)"
      ]
    },
    {
      "cell_type": "markdown",
      "metadata": {
        "id": "2YusJd6WHAhG"
      },
      "source": [
        "We use [search](https://langchain-ai.github.io/langgraph/reference/store/#langgraph.store.base.BaseStore.search) to retrieve objects from the store by `namespace`.\n",
        "\n",
        "This returns a list."
      ]
    },
    {
      "cell_type": "code",
      "execution_count": null,
      "metadata": {
        "colab": {
          "base_uri": "https://localhost:8080/"
        },
        "id": "jgLONIf-HAhG",
        "outputId": "31c2cbcd-4fe8-47c6-8ed6-5d35e156827e"
      },
      "outputs": [
        {
          "output_type": "execute_result",
          "data": {
            "text/plain": [
              "list"
            ]
          },
          "metadata": {},
          "execution_count": 30
        }
      ],
      "source": [
        "# Search\n",
        "memories = in_memory_store.search(namespace_for_memory)\n",
        "type(memories)"
      ]
    },
    {
      "cell_type": "code",
      "execution_count": null,
      "metadata": {
        "colab": {
          "base_uri": "https://localhost:8080/"
        },
        "id": "djFqAvhIHAhH",
        "outputId": "6f33d8f4-5007-46a9-9ee0-246e9756d1ff"
      },
      "outputs": [
        {
          "output_type": "execute_result",
          "data": {
            "text/plain": [
              "{'value': {'food_preference': 'I like Afghani Burger'},\n",
              " 'key': '276fdf4e-6a2c-4e9b-9c3e-f6179c34c91c',\n",
              " 'namespace': ['2', 'memories'],\n",
              " 'created_at': '2024-11-25T11:58:03.227637+00:00',\n",
              " 'updated_at': '2024-11-25T11:58:03.227644+00:00'}"
            ]
          },
          "metadata": {},
          "execution_count": 31
        }
      ],
      "source": [
        "# Metatdata\n",
        "memories[0].dict()"
      ]
    },
    {
      "cell_type": "code",
      "execution_count": null,
      "metadata": {
        "colab": {
          "base_uri": "https://localhost:8080/"
        },
        "id": "IabZEXdsHAhH",
        "outputId": "a0b40142-5208-4779-94f4-7e9cbd885a35"
      },
      "outputs": [
        {
          "output_type": "stream",
          "name": "stdout",
          "text": [
            "276fdf4e-6a2c-4e9b-9c3e-f6179c34c91c {'food_preference': 'I like Afghani Burger'}\n"
          ]
        }
      ],
      "source": [
        "# The key, value\n",
        "print(memories[0].key, memories[0].value)"
      ]
    },
    {
      "cell_type": "markdown",
      "metadata": {
        "id": "H0JA7xNOHAhH"
      },
      "source": [
        "We can also use [get](https://langchain-ai.github.io/langgraph/reference/store/#langgraph.store.base.BaseStore.get) to retrieve an object by `namespace` and `key`."
      ]
    },
    {
      "cell_type": "code",
      "execution_count": null,
      "metadata": {
        "colab": {
          "base_uri": "https://localhost:8080/"
        },
        "id": "L0DWsZuzHAhH",
        "outputId": "d81141b7-c8e8-4ed0-9049-3edaa72f5ec8"
      },
      "outputs": [
        {
          "output_type": "execute_result",
          "data": {
            "text/plain": [
              "{'value': {'food_preference': 'I like Afghani Burger'},\n",
              " 'key': '276fdf4e-6a2c-4e9b-9c3e-f6179c34c91c',\n",
              " 'namespace': ['2', 'memories'],\n",
              " 'created_at': '2024-11-25T11:58:03.227637+00:00',\n",
              " 'updated_at': '2024-11-25T11:58:03.227644+00:00'}"
            ]
          },
          "metadata": {},
          "execution_count": 33
        }
      ],
      "source": [
        "# Get the memory by namespace and key\n",
        "memory = in_memory_store.get(namespace_for_memory, key)\n",
        "memory.dict()"
      ]
    },
    {
      "cell_type": "markdown",
      "metadata": {
        "id": "JXvQaqB8HAhI"
      },
      "source": [
        "## Chatbot with long-term memory\n",
        "\n",
        "We want a chatbot that [has two types of memory](https://docs.google.com/presentation/d/181mvjlgsnxudQI6S3ritg9sooNyu4AcLLFH1UK0kIuk/edit#slide=id.g30eb3c8cf10_0_156):\n",
        "\n",
        "1. `Short-term (within-thread) memory`: Chatbot can persist conversational history and / or allow interruptions in a chat session.\n",
        "2. `Long-term (cross-thread) memory`: Chatbot can remember information about a specific user *across all chat sessions*."
      ]
    },
    {
      "cell_type": "code",
      "execution_count": null,
      "metadata": {
        "id": "D7mH29fhHAhI"
      },
      "outputs": [],
      "source": [
        "_set_env(\"OPENAI_API_KEY\")"
      ]
    },
    {
      "cell_type": "markdown",
      "metadata": {
        "id": "mxYIK5KtHAhI"
      },
      "source": [
        "For `short-term memory`, we'll use a [checkpointer](https://langchain-ai.github.io/langgraph/concepts/persistence/#checkpointer-libraries).\n",
        "\n",
        "See Module 2 and our [conceptual docs](https://langchain-ai.github.io/langgraph/concepts/persistence/) for more on checkpointers, but in summary:\n",
        "\n",
        "* They write the graph state at each step to a thread.\n",
        "* They persist the chat history in the thread.\n",
        "* They allow the graph to be interrupted and / or resumed from any step in the thread.\n",
        "\n",
        "And, for `long-term memory`, we'll use the [LangGraph Store](https://langchain-ai.github.io/langgraph/reference/store/#langgraph.store.base.BaseStore) as introduced above."
      ]
    },
    {
      "cell_type": "code",
      "execution_count": null,
      "metadata": {
        "id": "48q9VDFyHAhI"
      },
      "outputs": [],
      "source": [
        "# Chat model\n",
        "import os\n",
        "from langchain_groq import ChatGroq\n",
        "from google.colab import userdata\n",
        "\n",
        "\n",
        "groq_api_key = userdata.get('GROQ_API_KEY')\n",
        "model = ChatGroq(\n",
        "    groq_api_key=groq_api_key,\n",
        "    model_name=\"mixtral-8x7b-32768\",\n",
        "    temperature=0.4\n",
        ")\n"
      ]
    },
    {
      "cell_type": "markdown",
      "metadata": {
        "id": "WskOL6xxHAhI"
      },
      "source": [
        "The chat history will be saved to short-term memory using the checkpointer.\n",
        "\n",
        "The chatbot will reflect on the chat history.\n",
        "\n",
        "It will then create and save a memory to the [LangGraph Store](https://langchain-ai.github.io/langgraph/reference/store/#langgraph.store.base.BaseStore).\n",
        "\n",
        "This memory is accessible in future chat sessions to personalize the chatbot's responses."
      ]
    },
    {
      "cell_type": "code",
      "execution_count": null,
      "metadata": {
        "colab": {
          "base_uri": "https://localhost:8080/",
          "height": 350
        },
        "id": "NyaCh-SKHAhI",
        "outputId": "97b41305-edcd-4d97-bc40-2ec8b59302a8"
      },
      "outputs": [
        {
          "output_type": "display_data",
          "data": {
            "image/png": "[encoded data removed]",
            "text/plain": [
              "<IPython.core.display.Image object>"
            ]
          },
          "metadata": {}
        }
      ],
      "source": [
        "from IPython.display import Image, display\n",
        "\n",
        "from langgraph.checkpoint.memory import MemorySaver\n",
        "from langgraph.graph import StateGraph, MessagesState, START, END\n",
        "from langgraph.store.base import BaseStore\n",
        "\n",
        "from langchain_core.messages import HumanMessage, SystemMessage\n",
        "from langchain_core.runnables.config import RunnableConfig\n",
        "\n",
        "# Chatbot instruction\n",
        "MODEL_SYSTEM_MESSAGE = \"\"\"You are a helpful assistant with memory that provides information about the user.\n",
        "If you have memory for this user, use it to personalize your responses.\n",
        "Here is the memory (it may be empty): {memory}\"\"\"\n",
        "\n",
        "# Create new memory from the chat history and any existing memory\n",
        "CREATE_MEMORY_INSTRUCTION = \"\"\"\"You are collecting information about the user to personalize your responses.\n",
        "\n",
        "CURRENT USER INFORMATION:\n",
        "{memory}\n",
        "\n",
        "INSTRUCTIONS:\n",
        "1. Review the chat history below carefully\n",
        "2. Identify new information about the user, such as:\n",
        "   - Personal details (name, location)\n",
        "   - Preferences (likes, dislikes)\n",
        "   - Interests and hobbies\n",
        "   - Past experiences\n",
        "   - Goals or future plans\n",
        "3. Merge any new information with existing memory\n",
        "4. Format the memory as a clear, bulleted list\n",
        "5. If new information conflicts with existing memory, keep the most recent version\n",
        "\n",
        "Remember: Only include factual information directly stated by the user. Do not make assumptions or inferences.\n",
        "\n",
        "Based on the chat history below, please update the user information:\"\"\"\n",
        "\n",
        "def call_model(state: MessagesState, config: RunnableConfig, store: BaseStore):\n",
        "\n",
        "    \"\"\"Load memory from the store and use it to personalize the chatbot's response.\"\"\"\n",
        "\n",
        "    # Get the user ID from the config\n",
        "    user_id = config[\"configurable\"][\"user_id\"]\n",
        "\n",
        "    # Retrieve memory from the store\n",
        "    namespace = (\"memory\", user_id)\n",
        "    key = \"user_memory\"\n",
        "    existing_memory = store.get(namespace, key)\n",
        "\n",
        "    # Extract the actual memory content if it exists and add a prefix\n",
        "    if existing_memory:\n",
        "        # Value is a dictionary with a memory key\n",
        "        existing_memory_content = existing_memory.value.get('memory')\n",
        "    else:\n",
        "        existing_memory_content = \"No existing memory found.\"\n",
        "\n",
        "    # Format the memory in the system prompt\n",
        "    system_msg = MODEL_SYSTEM_MESSAGE.format(memory=existing_memory_content)\n",
        "\n",
        "    # Respond using memory as well as the chat history\n",
        "    response = model.invoke([SystemMessage(content=system_msg)]+state[\"messages\"])\n",
        "\n",
        "    return {\"messages\": response}\n",
        "\n",
        "def write_memory(state: MessagesState, config: RunnableConfig, store: BaseStore):\n",
        "\n",
        "    \"\"\"Reflect on the chat history and save a memory to the store.\"\"\"\n",
        "\n",
        "    # Get the user ID from the config\n",
        "    user_id = config[\"configurable\"][\"user_id\"]\n",
        "\n",
        "    # Retrieve existing memory from the store\n",
        "    namespace = (\"memory\", user_id)\n",
        "    existing_memory = store.get(namespace, \"user_memory\")\n",
        "\n",
        "    # Extract the memory\n",
        "    if existing_memory:\n",
        "        existing_memory_content = existing_memory.value.get('memory')\n",
        "    else:\n",
        "        existing_memory_content = \"No existing memory found.\"\n",
        "\n",
        "    # Format the memory in the system prompt\n",
        "    system_msg = CREATE_MEMORY_INSTRUCTION.format(memory=existing_memory_content)\n",
        "    new_memory = model.invoke([SystemMessage(content=system_msg)]+state['messages'])\n",
        "\n",
        "    # Overwrite the existing memory in the store\n",
        "    key = \"user_memory\"\n",
        "\n",
        "    # Write value as a dictionary with a memory key\n",
        "    store.put(namespace, key, {\"memory\": new_memory.content})\n",
        "\n",
        "# Define the graph\n",
        "builder = StateGraph(MessagesState)\n",
        "builder.add_node(\"call_model\", call_model)\n",
        "builder.add_node(\"write_memory\", write_memory)\n",
        "builder.add_edge(START, \"call_model\")\n",
        "builder.add_edge(\"call_model\", \"write_memory\")\n",
        "builder.add_edge(\"write_memory\", END)\n",
        "\n",
        "# Store for long-term (across-thread) memory\n",
        "across_thread_memory = InMemoryStore()\n",
        "\n",
        "# Checkpointer for short-term (within-thread) memory\n",
        "within_thread_memory = MemorySaver()\n",
        "\n",
        "# Compile the graph with the checkpointer fir and store\n",
        "graph = builder.compile(checkpointer=within_thread_memory, store=across_thread_memory)\n",
        "\n",
        "# View\n",
        "display(Image(graph.get_graph(xray=1).draw_mermaid_png()))"
      ]
    },
    {
      "cell_type": "markdown",
      "metadata": {
        "id": "BTWPcWawHAhJ"
      },
      "source": [
        "When we interact with the chatbot, we supply two things:\n",
        "\n",
        "1. `Short-term (within-thread) memory`: A `thread ID` for persisting the chat history.\n",
        "2. `Long-term (cross-thread) memory`: A `user ID` to namespace long-term memories to the user.\n",
        "\n",
        "Let's see how these work together in practice."
      ]
    },
    {
      "cell_type": "code",
      "execution_count": null,
      "metadata": {
        "colab": {
          "base_uri": "https://localhost:8080/"
        },
        "id": "7GE1xQFhHAhJ",
        "outputId": "527f7208-50ab-4507-88b2-fc4a48262985"
      },
      "outputs": [
        {
          "output_type": "stream",
          "name": "stdout",
          "text": [
            "================================\u001b[1m Human Message \u001b[0m=================================\n",
            "\n",
            "Hi, my name is Ahmed\n",
            "==================================\u001b[1m Ai Message \u001b[0m==================================\n",
            "\n",
            "Hello Ahmed, nice to meet you! I don't have any memory of our previous interactions, but I'll make sure to remember our conversation from now on. Is there anything specific you would like to know or discuss today? I'm here to help!\n"
          ]
        }
      ],
      "source": [
        "# We supply a thread ID for short-term (within-thread) memory\n",
        "# We supply a user ID for long-term (across-thread) memory\n",
        "config = {\"configurable\": {\"thread_id\": \"2\", \"user_id\": \"2\"}}\n",
        "\n",
        "# User input\n",
        "input_messages = [HumanMessage(content=\"Hi, my name is Ahmed\")]\n",
        "\n",
        "# Run the graph\n",
        "for chunk in graph.stream({\"messages\": input_messages}, config, stream_mode=\"values\"):\n",
        "    chunk[\"messages\"][-1].pretty_print()"
      ]
    },
    {
      "cell_type": "code",
      "execution_count": null,
      "metadata": {
        "colab": {
          "base_uri": "https://localhost:8080/"
        },
        "id": "fJJnxgMtHAhJ",
        "outputId": "cf493056-ff9c-48e2-b84c-0a78a2e69930"
      },
      "outputs": [
        {
          "output_type": "stream",
          "name": "stdout",
          "text": [
            "================================\u001b[1m Human Message \u001b[0m=================================\n",
            "\n",
            "I like film making and I also love Afghani Burger\n",
            "==================================\u001b[1m Ai Message \u001b[0m==================================\n",
            "\n",
            "Thank you for sharing your interests with me, Ahmed! I've updated your user information with your preferences for filmmaking and Afghani burgers.\n",
            "\n",
            "If you have any questions about filmmaking, such as techniques, equipment, or software, feel free to ask! I'll do my best to provide you with helpful and accurate information.\n",
            "\n",
            "As for Afghani burgers, I can look up some recipes or restaurants in your area if you'd like. They sound delicious, and I'm always interested in trying new foods!\n"
          ]
        }
      ],
      "source": [
        "# User input\n",
        "input_messages = [HumanMessage(content=\"I like film making and I also love Afghani Burger\")]\n",
        "\n",
        "# Run the graph\n",
        "for chunk in graph.stream({\"messages\": input_messages}, config, stream_mode=\"values\"):\n",
        "    chunk[\"messages\"][-1].pretty_print()"
      ]
    },
    {
      "cell_type": "markdown",
      "metadata": {
        "id": "h98341DYHAhJ"
      },
      "source": [
        "We're using the `MemorySaver` checkpointer for within-thread memory.\n",
        "\n",
        "This saves the chat history to the thread.\n",
        "\n",
        "We can look at the chat history saved to the thread."
      ]
    },
    {
      "cell_type": "code",
      "execution_count": null,
      "metadata": {
        "colab": {
          "base_uri": "https://localhost:8080/"
        },
        "id": "ZA8BSLtJHAhJ",
        "outputId": "1b1652fd-0db6-411d-9418-d2ff8f21fc94"
      },
      "outputs": [
        {
          "output_type": "stream",
          "name": "stdout",
          "text": [
            "================================\u001b[1m Human Message \u001b[0m=================================\n",
            "\n",
            "Hi, my name is Ahmed\n",
            "==================================\u001b[1m Ai Message \u001b[0m==================================\n",
            "\n",
            "Hello Ahmed, nice to meet you! I don't have any memory of our previous interactions, but I'll make sure to remember our conversation from now on. Is there anything specific you would like to know or discuss today? I'm here to help!\n",
            "================================\u001b[1m Human Message \u001b[0m=================================\n",
            "\n",
            "I like film making and I also love Afghani Burger\n",
            "==================================\u001b[1m Ai Message \u001b[0m==================================\n",
            "\n",
            "Thank you for sharing your interests with me, Ahmed! I've updated your user information with your preferences for filmmaking and Afghani burgers.\n",
            "\n",
            "If you have any questions about filmmaking, such as techniques, equipment, or software, feel free to ask! I'll do my best to provide you with helpful and accurate information.\n",
            "\n",
            "As for Afghani burgers, I can look up some recipes or restaurants in your area if you'd like. They sound delicious, and I'm always interested in trying new foods!\n"
          ]
        }
      ],
      "source": [
        "thread = {\"configurable\": {\"thread_id\": \"2\"}}\n",
        "state = graph.get_state(thread).values\n",
        "for m in state[\"messages\"]:\n",
        "    m.pretty_print()"
      ]
    },
    {
      "cell_type": "markdown",
      "metadata": {
        "id": "b8R6_okaHAhK"
      },
      "source": [
        "Recall that we compiled the graph with our the store:\n",
        "\n",
        "```python\n",
        "across_thread_memory = InMemoryStore()\n",
        "```\n",
        "\n",
        "And, we added a node to the graph (`write_memory`) that reflects on the chat history and saves a memory to the store.\n",
        "\n",
        "We can to see if the memory was saved to the store."
      ]
    },
    {
      "cell_type": "code",
      "execution_count": null,
      "metadata": {
        "colab": {
          "base_uri": "https://localhost:8080/"
        },
        "id": "S5rY63f9HAhK",
        "outputId": "ddd4eb29-e492-4de2-c06a-9b6fc7027d46"
      },
      "outputs": [
        {
          "output_type": "execute_result",
          "data": {
            "text/plain": [
              "{'value': {'memory': \"\\n\\nHere's an updated version of your user information:\\n\\nUpdated user information:\\n- Name: Ahmed\\n- Location: Not specified\\n- Preferences:\\n  - Filmmaking\\n  - Afghani burgers\\n- Interests and hobbies: Not yet identified\\n- Past experiences: Not yet identified\\n- Goals or future plans: Not yet identified\"},\n",
              " 'key': 'user_memory',\n",
              " 'namespace': ['memory', '2'],\n",
              " 'created_at': '2024-11-25T11:58:37.892125+00:00',\n",
              " 'updated_at': '2024-11-25T11:58:43.491469+00:00'}"
            ]
          },
          "metadata": {},
          "execution_count": 38
        }
      ],
      "source": [
        "# Namespace for the memory to save\n",
        "user_id = \"2\"\n",
        "namespace = (\"memory\", user_id)\n",
        "existing_memory = across_thread_memory.get(namespace, \"user_memory\")\n",
        "existing_memory.dict()"
      ]
    },
    {
      "cell_type": "markdown",
      "metadata": {
        "id": "uRYVFKqPHAhK"
      },
      "source": [
        "Now, let's kick off a *new thread* with the *same user ID*.\n",
        "\n",
        "We should see that the chatbot remembered the user's profile and used it to personalize the response."
      ]
    },
    {
      "cell_type": "code",
      "execution_count": null,
      "metadata": {
        "colab": {
          "base_uri": "https://localhost:8080/"
        },
        "id": "ZizBvQBpHAhK",
        "outputId": "40dc895b-113b-4b67-f4cf-a48657cbdd5a"
      },
      "outputs": [
        {
          "output_type": "stream",
          "name": "stdout",
          "text": [
            "================================\u001b[1m Human Message \u001b[0m=================================\n",
            "\n",
            "Hi! what would you recommend me to eat?\n",
            "==================================\u001b[1m Ai Message \u001b[0m==================================\n",
            "\n",
            "Hello Ahmed, based on the information I have about your preferences, I would recommend trying an Afghani burger. It's a unique and delicious combination of flavors that you seem to enjoy!\n"
          ]
        }
      ],
      "source": [
        "# We supply a user ID for across-thread memory as well as a new thread ID\n",
        "config = {\"configurable\": {\"thread_id\": \"3\", \"user_id\": \"2\"}}\n",
        "\n",
        "# User input\n",
        "input_messages = [HumanMessage(content=\"Hi! what would you recommend me to eat?\")]\n",
        "\n",
        "# Run the graph\n",
        "for chunk in graph.stream({\"messages\": input_messages}, config, stream_mode=\"values\"):\n",
        "    chunk[\"messages\"][-1].pretty_print()"
      ]
    },
    {
      "cell_type": "code",
      "execution_count": null,
      "metadata": {
        "id": "IpZE0xnXHAhK",
        "outputId": "72d93596-965b-4d46-f675-d6c34be8fe45"
      },
      "outputs": [
        {
          "name": "stdout",
          "output_type": "stream",
          "text": [
            "================================\u001b[1m Human Message \u001b[0m=================================\n",
            "\n",
            "Great, are there any bakeries nearby that I can check out? I like a croissant after biking.\n",
            "==================================\u001b[1m Ai Message \u001b[0m==================================\n",
            "\n",
            "Absolutely, Lance! Here are a few bakeries in San Francisco where you can enjoy a delicious croissant after your ride:\n",
            "\n",
            "1. **Tartine Bakery**: Located in the Mission District, Tartine is famous for its pastries, and their croissants are a must-try.\n",
            "\n",
            "2. **Arsicault Bakery**: This bakery in the Richmond District has been praised for its buttery, flaky croissants. It's a bit of a detour, but worth it!\n",
            "\n",
            "3. **b. Patisserie**: Situated in Lower Pacific Heights, b. Patisserie offers a variety of pastries, and their croissants are particularly popular.\n",
            "\n",
            "4. **Le Marais Bakery**: With locations in the Marina and Castro, Le Marais offers a charming French bakery experience with excellent croissants.\n",
            "\n",
            "5. **Neighbor Bakehouse**: Located in the Dogpatch, this bakery is known for its creative pastries, including some fantastic croissants.\n",
            "\n",
            "These spots should provide a delightful treat after your biking adventures. Enjoy your ride and your croissant!\n"
          ]
        }
      ],
      "source": [
        "# User input\n",
        "input_messages = [HumanMessage(content=\"Great, are there any bakeries nearby that I can check out? I like a croissant after biking.\")]\n",
        "\n",
        "# Run the graph\n",
        "for chunk in graph.stream({\"messages\": input_messages}, config, stream_mode=\"values\"):\n",
        "    chunk[\"messages\"][-1].pretty_print()"
      ]
    },
    {
      "cell_type": "markdown",
      "metadata": {
        "id": "3I6ZlDyjHAhK"
      },
      "source": [
        "## Viewing traces in LangSmith\n",
        "\n",
        "We can see that the memories are retrieved from the store and supplied as part of the system prompt, as expected:\n",
        "\n",
        "https://smith.langchain.com/public/10268d64-82ff-434e-ac02-4afa5cc15432/r\n",
        "\n",
        "## Studio\n",
        "\n",
        "We can also interact with our chatbot in Studio.\n",
        "\n"
      ]
    },
    {
      "cell_type": "markdown",
      "metadata": {
        "id": "g3b3PaEtHAhL"
      },
      "source": []
    }
  ],
  "metadata": {
    "kernelspec": {
      "display_name": "Python 3 (ipykernel)",
      "language": "python",
      "name": "python3"
    },
    "language_info": {
      "codemirror_mode": {
        "name": "ipython",
        "version": 3
      },
      "file_extension": ".py",
      "mimetype": "text/x-python",
      "name": "python",
      "nbconvert_exporter": "python",
      "pygments_lexer": "ipython3",
      "version": "3.11.8"
    },
    "colab": {
      "provenance": [],
      "include_colab_link": true
    }
  },
  "nbformat": 4,
  "nbformat_minor": 0
}